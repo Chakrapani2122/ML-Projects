{
 "cells": [
  {
   "cell_type": "markdown",
   "id": "caad5a67",
   "metadata": {},
   "source": [
    "# Iris Flower Species Detection Model"
   ]
  },
  {
   "cell_type": "markdown",
   "id": "c5bc7cfd",
   "metadata": {},
   "source": [
    "Iris flower has three species; setosa, versicolor and virginica, which differ according to their measurements.\n",
    "\n",
    "This is a RandomForestClassifer model that predicts the species of the flower with features SepalLenth (cm), SepalWidth (cm), PetalLength (cm), PetalWidth (cm)."
   ]
  },
  {
   "cell_type": "markdown",
   "id": "44ced899",
   "metadata": {},
   "source": [
    "# 1.Load Python Packages"
   ]
  },
  {
   "cell_type": "code",
   "execution_count": 76,
   "id": "f24401fd",
   "metadata": {},
   "outputs": [],
   "source": [
    "import numpy as np\n",
    "import pandas as pd\n",
    "from sklearn.ensemble import RandomForestClassifier\n",
    "from sklearn.model_selection import train_test_split\n",
    "from sklearn.metrics import classification_report, confusion_matrix, accuracy_score"
   ]
  },
  {
   "cell_type": "markdown",
   "id": "bac0ed6d",
   "metadata": {},
   "source": [
    "# 2.Pre-process the data"
   ]
  },
  {
   "cell_type": "code",
   "execution_count": 77,
   "id": "b85a7bff",
   "metadata": {},
   "outputs": [],
   "source": [
    "iris = pd.read_csv(\"Iris.csv\")\n",
    "iris=iris.drop(\"Id\",axis=1)"
   ]
  },
  {
   "cell_type": "markdown",
   "id": "09c02907",
   "metadata": {},
   "source": [
    "Converting the flower species into numerical data. The values associated with various species are given below :"
   ]
  },
  {
   "cell_type": "markdown",
   "id": "c78df277",
   "metadata": {},
   "source": [
    "Iris-setosa : 1\n",
    "\n",
    "Iris-versicolor : 2\n",
    "\n",
    "Iris-virginica : 3"
   ]
  },
  {
   "cell_type": "code",
   "execution_count": 78,
   "id": "3f6759a9",
   "metadata": {},
   "outputs": [
    {
     "data": {
      "text/plain": [
       "array(['Iris-setosa', 'Iris-versicolor', 'Iris-virginica'], dtype=object)"
      ]
     },
     "execution_count": 78,
     "metadata": {},
     "output_type": "execute_result"
    }
   ],
   "source": [
    "iris.Species.unique()"
   ]
  },
  {
   "cell_type": "code",
   "execution_count": 79,
   "id": "5b5b9495",
   "metadata": {},
   "outputs": [
    {
     "data": {
      "text/plain": [
       "array([1, 2, 3], dtype=int64)"
      ]
     },
     "execution_count": 79,
     "metadata": {},
     "output_type": "execute_result"
    }
   ],
   "source": [
    "iris.Species.replace(\"Iris-setosa\",1,inplace=True)\n",
    "iris.Species.replace(\"Iris-versicolor\",2,inplace=True)\n",
    "iris.Species.replace(\"Iris-virginica\",3,inplace=True)\n",
    "iris.Species.unique()"
   ]
  },
  {
   "cell_type": "code",
   "execution_count": 80,
   "id": "0a350c8f",
   "metadata": {},
   "outputs": [
    {
     "data": {
      "text/html": [
       "<div>\n",
       "<style scoped>\n",
       "    .dataframe tbody tr th:only-of-type {\n",
       "        vertical-align: middle;\n",
       "    }\n",
       "\n",
       "    .dataframe tbody tr th {\n",
       "        vertical-align: top;\n",
       "    }\n",
       "\n",
       "    .dataframe thead th {\n",
       "        text-align: right;\n",
       "    }\n",
       "</style>\n",
       "<table border=\"1\" class=\"dataframe\">\n",
       "  <thead>\n",
       "    <tr style=\"text-align: right;\">\n",
       "      <th></th>\n",
       "      <th>SepalLengthCm</th>\n",
       "      <th>SepalWidthCm</th>\n",
       "      <th>PetalLengthCm</th>\n",
       "      <th>PetalWidthCm</th>\n",
       "      <th>Species</th>\n",
       "    </tr>\n",
       "  </thead>\n",
       "  <tbody>\n",
       "    <tr>\n",
       "      <th>0</th>\n",
       "      <td>5.1</td>\n",
       "      <td>3.5</td>\n",
       "      <td>1.4</td>\n",
       "      <td>0.2</td>\n",
       "      <td>1</td>\n",
       "    </tr>\n",
       "    <tr>\n",
       "      <th>1</th>\n",
       "      <td>4.9</td>\n",
       "      <td>3.0</td>\n",
       "      <td>1.4</td>\n",
       "      <td>0.2</td>\n",
       "      <td>1</td>\n",
       "    </tr>\n",
       "    <tr>\n",
       "      <th>2</th>\n",
       "      <td>4.7</td>\n",
       "      <td>3.2</td>\n",
       "      <td>1.3</td>\n",
       "      <td>0.2</td>\n",
       "      <td>1</td>\n",
       "    </tr>\n",
       "    <tr>\n",
       "      <th>3</th>\n",
       "      <td>4.6</td>\n",
       "      <td>3.1</td>\n",
       "      <td>1.5</td>\n",
       "      <td>0.2</td>\n",
       "      <td>1</td>\n",
       "    </tr>\n",
       "    <tr>\n",
       "      <th>4</th>\n",
       "      <td>5.0</td>\n",
       "      <td>3.6</td>\n",
       "      <td>1.4</td>\n",
       "      <td>0.2</td>\n",
       "      <td>1</td>\n",
       "    </tr>\n",
       "    <tr>\n",
       "      <th>5</th>\n",
       "      <td>5.4</td>\n",
       "      <td>3.9</td>\n",
       "      <td>1.7</td>\n",
       "      <td>0.4</td>\n",
       "      <td>1</td>\n",
       "    </tr>\n",
       "    <tr>\n",
       "      <th>6</th>\n",
       "      <td>4.6</td>\n",
       "      <td>3.4</td>\n",
       "      <td>1.4</td>\n",
       "      <td>0.3</td>\n",
       "      <td>1</td>\n",
       "    </tr>\n",
       "    <tr>\n",
       "      <th>7</th>\n",
       "      <td>5.0</td>\n",
       "      <td>3.4</td>\n",
       "      <td>1.5</td>\n",
       "      <td>0.2</td>\n",
       "      <td>1</td>\n",
       "    </tr>\n",
       "    <tr>\n",
       "      <th>8</th>\n",
       "      <td>4.4</td>\n",
       "      <td>2.9</td>\n",
       "      <td>1.4</td>\n",
       "      <td>0.2</td>\n",
       "      <td>1</td>\n",
       "    </tr>\n",
       "    <tr>\n",
       "      <th>9</th>\n",
       "      <td>4.9</td>\n",
       "      <td>3.1</td>\n",
       "      <td>1.5</td>\n",
       "      <td>0.1</td>\n",
       "      <td>1</td>\n",
       "    </tr>\n",
       "  </tbody>\n",
       "</table>\n",
       "</div>"
      ],
      "text/plain": [
       "   SepalLengthCm  SepalWidthCm  PetalLengthCm  PetalWidthCm  Species\n",
       "0            5.1           3.5            1.4           0.2        1\n",
       "1            4.9           3.0            1.4           0.2        1\n",
       "2            4.7           3.2            1.3           0.2        1\n",
       "3            4.6           3.1            1.5           0.2        1\n",
       "4            5.0           3.6            1.4           0.2        1\n",
       "5            5.4           3.9            1.7           0.4        1\n",
       "6            4.6           3.4            1.4           0.3        1\n",
       "7            5.0           3.4            1.5           0.2        1\n",
       "8            4.4           2.9            1.4           0.2        1\n",
       "9            4.9           3.1            1.5           0.1        1"
      ]
     },
     "execution_count": 80,
     "metadata": {},
     "output_type": "execute_result"
    }
   ],
   "source": [
    "iris.head(10)"
   ]
  },
  {
   "cell_type": "code",
   "execution_count": 81,
   "id": "a9297677",
   "metadata": {},
   "outputs": [
    {
     "data": {
      "text/plain": [
       "SepalLengthCm    float64\n",
       "SepalWidthCm     float64\n",
       "PetalLengthCm    float64\n",
       "PetalWidthCm     float64\n",
       "Species            int64\n",
       "dtype: object"
      ]
     },
     "execution_count": 81,
     "metadata": {},
     "output_type": "execute_result"
    }
   ],
   "source": [
    "iris.dtypes"
   ]
  },
  {
   "cell_type": "code",
   "execution_count": 82,
   "id": "08fa4dff",
   "metadata": {},
   "outputs": [
    {
     "name": "stdout",
     "output_type": "stream",
     "text": [
      "<class 'pandas.core.frame.DataFrame'>\n",
      "RangeIndex: 150 entries, 0 to 149\n",
      "Data columns (total 5 columns):\n",
      " #   Column         Non-Null Count  Dtype  \n",
      "---  ------         --------------  -----  \n",
      " 0   SepalLengthCm  150 non-null    float64\n",
      " 1   SepalWidthCm   150 non-null    float64\n",
      " 2   PetalLengthCm  150 non-null    float64\n",
      " 3   PetalWidthCm   150 non-null    float64\n",
      " 4   Species        150 non-null    int64  \n",
      "dtypes: float64(4), int64(1)\n",
      "memory usage: 6.0 KB\n"
     ]
    }
   ],
   "source": [
    "iris.info()"
   ]
  },
  {
   "cell_type": "markdown",
   "id": "e6b86457",
   "metadata": {},
   "source": [
    "# 3.Subset the data"
   ]
  },
  {
   "cell_type": "markdown",
   "id": "a40c2c23",
   "metadata": {},
   "source": [
    "specifying the input attribute values and target values."
   ]
  },
  {
   "cell_type": "code",
   "execution_count": 83,
   "id": "b38c9212",
   "metadata": {},
   "outputs": [],
   "source": [
    "x = iris.drop(\"Species\",axis=1)\n",
    "y = iris.Species"
   ]
  },
  {
   "cell_type": "markdown",
   "id": "493c2d4d",
   "metadata": {},
   "source": [
    "# 4.Split data into train and test data"
   ]
  },
  {
   "cell_type": "markdown",
   "id": "42e67abf",
   "metadata": {},
   "source": [
    "splitting the data into 4:1 ratio for training data and testing data respectively.\n",
    "\n",
    "X_train : Training input attributes.\n",
    "\n",
    "X_test : Testing input attributes.\n",
    "\n",
    "Y_train : Training target attributes.\n",
    "\n",
    "Y_test : Testing target attibutes."
   ]
  },
  {
   "cell_type": "code",
   "execution_count": 84,
   "id": "746df6b3",
   "metadata": {},
   "outputs": [],
   "source": [
    "X_train, X_test, Y_train, Y_test = train_test_split(x, y, test_size=0.2)"
   ]
  },
  {
   "cell_type": "code",
   "execution_count": 85,
   "id": "9cc51e42",
   "metadata": {},
   "outputs": [
    {
     "data": {
      "text/plain": [
       "((120, 4), (30, 4), (120,), (30,))"
      ]
     },
     "execution_count": 85,
     "metadata": {},
     "output_type": "execute_result"
    }
   ],
   "source": [
    "X_train.shape, X_test.shape, Y_train.shape, Y_test.shape"
   ]
  },
  {
   "cell_type": "code",
   "execution_count": 86,
   "id": "ad6fb509",
   "metadata": {},
   "outputs": [
    {
     "data": {
      "text/html": [
       "<div>\n",
       "<style scoped>\n",
       "    .dataframe tbody tr th:only-of-type {\n",
       "        vertical-align: middle;\n",
       "    }\n",
       "\n",
       "    .dataframe tbody tr th {\n",
       "        vertical-align: top;\n",
       "    }\n",
       "\n",
       "    .dataframe thead th {\n",
       "        text-align: right;\n",
       "    }\n",
       "</style>\n",
       "<table border=\"1\" class=\"dataframe\">\n",
       "  <thead>\n",
       "    <tr style=\"text-align: right;\">\n",
       "      <th></th>\n",
       "      <th>SepalLengthCm</th>\n",
       "      <th>SepalWidthCm</th>\n",
       "      <th>PetalLengthCm</th>\n",
       "      <th>PetalWidthCm</th>\n",
       "    </tr>\n",
       "  </thead>\n",
       "  <tbody>\n",
       "    <tr>\n",
       "      <th>17</th>\n",
       "      <td>5.1</td>\n",
       "      <td>3.5</td>\n",
       "      <td>1.4</td>\n",
       "      <td>0.3</td>\n",
       "    </tr>\n",
       "    <tr>\n",
       "      <th>127</th>\n",
       "      <td>6.1</td>\n",
       "      <td>3.0</td>\n",
       "      <td>4.9</td>\n",
       "      <td>1.8</td>\n",
       "    </tr>\n",
       "    <tr>\n",
       "      <th>119</th>\n",
       "      <td>6.0</td>\n",
       "      <td>2.2</td>\n",
       "      <td>5.0</td>\n",
       "      <td>1.5</td>\n",
       "    </tr>\n",
       "    <tr>\n",
       "      <th>110</th>\n",
       "      <td>6.5</td>\n",
       "      <td>3.2</td>\n",
       "      <td>5.1</td>\n",
       "      <td>2.0</td>\n",
       "    </tr>\n",
       "    <tr>\n",
       "      <th>24</th>\n",
       "      <td>4.8</td>\n",
       "      <td>3.4</td>\n",
       "      <td>1.9</td>\n",
       "      <td>0.2</td>\n",
       "    </tr>\n",
       "    <tr>\n",
       "      <th>...</th>\n",
       "      <td>...</td>\n",
       "      <td>...</td>\n",
       "      <td>...</td>\n",
       "      <td>...</td>\n",
       "    </tr>\n",
       "    <tr>\n",
       "      <th>87</th>\n",
       "      <td>6.3</td>\n",
       "      <td>2.3</td>\n",
       "      <td>4.4</td>\n",
       "      <td>1.3</td>\n",
       "    </tr>\n",
       "    <tr>\n",
       "      <th>28</th>\n",
       "      <td>5.2</td>\n",
       "      <td>3.4</td>\n",
       "      <td>1.4</td>\n",
       "      <td>0.2</td>\n",
       "    </tr>\n",
       "    <tr>\n",
       "      <th>138</th>\n",
       "      <td>6.0</td>\n",
       "      <td>3.0</td>\n",
       "      <td>4.8</td>\n",
       "      <td>1.8</td>\n",
       "    </tr>\n",
       "    <tr>\n",
       "      <th>136</th>\n",
       "      <td>6.3</td>\n",
       "      <td>3.4</td>\n",
       "      <td>5.6</td>\n",
       "      <td>2.4</td>\n",
       "    </tr>\n",
       "    <tr>\n",
       "      <th>20</th>\n",
       "      <td>5.4</td>\n",
       "      <td>3.4</td>\n",
       "      <td>1.7</td>\n",
       "      <td>0.2</td>\n",
       "    </tr>\n",
       "  </tbody>\n",
       "</table>\n",
       "<p>120 rows × 4 columns</p>\n",
       "</div>"
      ],
      "text/plain": [
       "     SepalLengthCm  SepalWidthCm  PetalLengthCm  PetalWidthCm\n",
       "17             5.1           3.5            1.4           0.3\n",
       "127            6.1           3.0            4.9           1.8\n",
       "119            6.0           2.2            5.0           1.5\n",
       "110            6.5           3.2            5.1           2.0\n",
       "24             4.8           3.4            1.9           0.2\n",
       "..             ...           ...            ...           ...\n",
       "87             6.3           2.3            4.4           1.3\n",
       "28             5.2           3.4            1.4           0.2\n",
       "138            6.0           3.0            4.8           1.8\n",
       "136            6.3           3.4            5.6           2.4\n",
       "20             5.4           3.4            1.7           0.2\n",
       "\n",
       "[120 rows x 4 columns]"
      ]
     },
     "execution_count": 86,
     "metadata": {},
     "output_type": "execute_result"
    }
   ],
   "source": [
    "X_train"
   ]
  },
  {
   "cell_type": "code",
   "execution_count": 87,
   "id": "c03a8173",
   "metadata": {},
   "outputs": [
    {
     "data": {
      "text/html": [
       "<div>\n",
       "<style scoped>\n",
       "    .dataframe tbody tr th:only-of-type {\n",
       "        vertical-align: middle;\n",
       "    }\n",
       "\n",
       "    .dataframe tbody tr th {\n",
       "        vertical-align: top;\n",
       "    }\n",
       "\n",
       "    .dataframe thead th {\n",
       "        text-align: right;\n",
       "    }\n",
       "</style>\n",
       "<table border=\"1\" class=\"dataframe\">\n",
       "  <thead>\n",
       "    <tr style=\"text-align: right;\">\n",
       "      <th></th>\n",
       "      <th>SepalLengthCm</th>\n",
       "      <th>SepalWidthCm</th>\n",
       "      <th>PetalLengthCm</th>\n",
       "      <th>PetalWidthCm</th>\n",
       "    </tr>\n",
       "  </thead>\n",
       "  <tbody>\n",
       "    <tr>\n",
       "      <th>146</th>\n",
       "      <td>6.3</td>\n",
       "      <td>2.5</td>\n",
       "      <td>5.0</td>\n",
       "      <td>1.9</td>\n",
       "    </tr>\n",
       "    <tr>\n",
       "      <th>25</th>\n",
       "      <td>5.0</td>\n",
       "      <td>3.0</td>\n",
       "      <td>1.6</td>\n",
       "      <td>0.2</td>\n",
       "    </tr>\n",
       "    <tr>\n",
       "      <th>90</th>\n",
       "      <td>5.5</td>\n",
       "      <td>2.6</td>\n",
       "      <td>4.4</td>\n",
       "      <td>1.2</td>\n",
       "    </tr>\n",
       "    <tr>\n",
       "      <th>30</th>\n",
       "      <td>4.8</td>\n",
       "      <td>3.1</td>\n",
       "      <td>1.6</td>\n",
       "      <td>0.2</td>\n",
       "    </tr>\n",
       "    <tr>\n",
       "      <th>47</th>\n",
       "      <td>4.6</td>\n",
       "      <td>3.2</td>\n",
       "      <td>1.4</td>\n",
       "      <td>0.2</td>\n",
       "    </tr>\n",
       "    <tr>\n",
       "      <th>37</th>\n",
       "      <td>4.9</td>\n",
       "      <td>3.1</td>\n",
       "      <td>1.5</td>\n",
       "      <td>0.1</td>\n",
       "    </tr>\n",
       "    <tr>\n",
       "      <th>96</th>\n",
       "      <td>5.7</td>\n",
       "      <td>2.9</td>\n",
       "      <td>4.2</td>\n",
       "      <td>1.3</td>\n",
       "    </tr>\n",
       "    <tr>\n",
       "      <th>56</th>\n",
       "      <td>6.3</td>\n",
       "      <td>3.3</td>\n",
       "      <td>4.7</td>\n",
       "      <td>1.6</td>\n",
       "    </tr>\n",
       "    <tr>\n",
       "      <th>34</th>\n",
       "      <td>4.9</td>\n",
       "      <td>3.1</td>\n",
       "      <td>1.5</td>\n",
       "      <td>0.1</td>\n",
       "    </tr>\n",
       "    <tr>\n",
       "      <th>131</th>\n",
       "      <td>7.9</td>\n",
       "      <td>3.8</td>\n",
       "      <td>6.4</td>\n",
       "      <td>2.0</td>\n",
       "    </tr>\n",
       "    <tr>\n",
       "      <th>7</th>\n",
       "      <td>5.0</td>\n",
       "      <td>3.4</td>\n",
       "      <td>1.5</td>\n",
       "      <td>0.2</td>\n",
       "    </tr>\n",
       "    <tr>\n",
       "      <th>8</th>\n",
       "      <td>4.4</td>\n",
       "      <td>2.9</td>\n",
       "      <td>1.4</td>\n",
       "      <td>0.2</td>\n",
       "    </tr>\n",
       "    <tr>\n",
       "      <th>134</th>\n",
       "      <td>6.1</td>\n",
       "      <td>2.6</td>\n",
       "      <td>5.6</td>\n",
       "      <td>1.4</td>\n",
       "    </tr>\n",
       "    <tr>\n",
       "      <th>76</th>\n",
       "      <td>6.8</td>\n",
       "      <td>2.8</td>\n",
       "      <td>4.8</td>\n",
       "      <td>1.4</td>\n",
       "    </tr>\n",
       "    <tr>\n",
       "      <th>130</th>\n",
       "      <td>7.4</td>\n",
       "      <td>2.8</td>\n",
       "      <td>6.1</td>\n",
       "      <td>1.9</td>\n",
       "    </tr>\n",
       "    <tr>\n",
       "      <th>15</th>\n",
       "      <td>5.7</td>\n",
       "      <td>4.4</td>\n",
       "      <td>1.5</td>\n",
       "      <td>0.4</td>\n",
       "    </tr>\n",
       "    <tr>\n",
       "      <th>4</th>\n",
       "      <td>5.0</td>\n",
       "      <td>3.6</td>\n",
       "      <td>1.4</td>\n",
       "      <td>0.2</td>\n",
       "    </tr>\n",
       "    <tr>\n",
       "      <th>79</th>\n",
       "      <td>5.7</td>\n",
       "      <td>2.6</td>\n",
       "      <td>3.5</td>\n",
       "      <td>1.0</td>\n",
       "    </tr>\n",
       "    <tr>\n",
       "      <th>91</th>\n",
       "      <td>6.1</td>\n",
       "      <td>3.0</td>\n",
       "      <td>4.6</td>\n",
       "      <td>1.4</td>\n",
       "    </tr>\n",
       "    <tr>\n",
       "      <th>139</th>\n",
       "      <td>6.9</td>\n",
       "      <td>3.1</td>\n",
       "      <td>5.4</td>\n",
       "      <td>2.1</td>\n",
       "    </tr>\n",
       "    <tr>\n",
       "      <th>107</th>\n",
       "      <td>7.3</td>\n",
       "      <td>2.9</td>\n",
       "      <td>6.3</td>\n",
       "      <td>1.8</td>\n",
       "    </tr>\n",
       "    <tr>\n",
       "      <th>21</th>\n",
       "      <td>5.1</td>\n",
       "      <td>3.7</td>\n",
       "      <td>1.5</td>\n",
       "      <td>0.4</td>\n",
       "    </tr>\n",
       "    <tr>\n",
       "      <th>46</th>\n",
       "      <td>5.1</td>\n",
       "      <td>3.8</td>\n",
       "      <td>1.6</td>\n",
       "      <td>0.2</td>\n",
       "    </tr>\n",
       "    <tr>\n",
       "      <th>73</th>\n",
       "      <td>6.1</td>\n",
       "      <td>2.8</td>\n",
       "      <td>4.7</td>\n",
       "      <td>1.2</td>\n",
       "    </tr>\n",
       "    <tr>\n",
       "      <th>140</th>\n",
       "      <td>6.7</td>\n",
       "      <td>3.1</td>\n",
       "      <td>5.6</td>\n",
       "      <td>2.4</td>\n",
       "    </tr>\n",
       "    <tr>\n",
       "      <th>88</th>\n",
       "      <td>5.6</td>\n",
       "      <td>3.0</td>\n",
       "      <td>4.1</td>\n",
       "      <td>1.3</td>\n",
       "    </tr>\n",
       "    <tr>\n",
       "      <th>57</th>\n",
       "      <td>4.9</td>\n",
       "      <td>2.4</td>\n",
       "      <td>3.3</td>\n",
       "      <td>1.0</td>\n",
       "    </tr>\n",
       "    <tr>\n",
       "      <th>109</th>\n",
       "      <td>7.2</td>\n",
       "      <td>3.6</td>\n",
       "      <td>6.1</td>\n",
       "      <td>2.5</td>\n",
       "    </tr>\n",
       "    <tr>\n",
       "      <th>45</th>\n",
       "      <td>4.8</td>\n",
       "      <td>3.0</td>\n",
       "      <td>1.4</td>\n",
       "      <td>0.3</td>\n",
       "    </tr>\n",
       "    <tr>\n",
       "      <th>44</th>\n",
       "      <td>5.1</td>\n",
       "      <td>3.8</td>\n",
       "      <td>1.9</td>\n",
       "      <td>0.4</td>\n",
       "    </tr>\n",
       "  </tbody>\n",
       "</table>\n",
       "</div>"
      ],
      "text/plain": [
       "     SepalLengthCm  SepalWidthCm  PetalLengthCm  PetalWidthCm\n",
       "146            6.3           2.5            5.0           1.9\n",
       "25             5.0           3.0            1.6           0.2\n",
       "90             5.5           2.6            4.4           1.2\n",
       "30             4.8           3.1            1.6           0.2\n",
       "47             4.6           3.2            1.4           0.2\n",
       "37             4.9           3.1            1.5           0.1\n",
       "96             5.7           2.9            4.2           1.3\n",
       "56             6.3           3.3            4.7           1.6\n",
       "34             4.9           3.1            1.5           0.1\n",
       "131            7.9           3.8            6.4           2.0\n",
       "7              5.0           3.4            1.5           0.2\n",
       "8              4.4           2.9            1.4           0.2\n",
       "134            6.1           2.6            5.6           1.4\n",
       "76             6.8           2.8            4.8           1.4\n",
       "130            7.4           2.8            6.1           1.9\n",
       "15             5.7           4.4            1.5           0.4\n",
       "4              5.0           3.6            1.4           0.2\n",
       "79             5.7           2.6            3.5           1.0\n",
       "91             6.1           3.0            4.6           1.4\n",
       "139            6.9           3.1            5.4           2.1\n",
       "107            7.3           2.9            6.3           1.8\n",
       "21             5.1           3.7            1.5           0.4\n",
       "46             5.1           3.8            1.6           0.2\n",
       "73             6.1           2.8            4.7           1.2\n",
       "140            6.7           3.1            5.6           2.4\n",
       "88             5.6           3.0            4.1           1.3\n",
       "57             4.9           2.4            3.3           1.0\n",
       "109            7.2           3.6            6.1           2.5\n",
       "45             4.8           3.0            1.4           0.3\n",
       "44             5.1           3.8            1.9           0.4"
      ]
     },
     "execution_count": 87,
     "metadata": {},
     "output_type": "execute_result"
    }
   ],
   "source": [
    "X_test"
   ]
  },
  {
   "cell_type": "code",
   "execution_count": 88,
   "id": "c650606f",
   "metadata": {},
   "outputs": [
    {
     "data": {
      "text/plain": [
       "17     1\n",
       "127    3\n",
       "119    3\n",
       "110    3\n",
       "24     1\n",
       "      ..\n",
       "87     2\n",
       "28     1\n",
       "138    3\n",
       "136    3\n",
       "20     1\n",
       "Name: Species, Length: 120, dtype: int64"
      ]
     },
     "execution_count": 88,
     "metadata": {},
     "output_type": "execute_result"
    }
   ],
   "source": [
    "Y_train"
   ]
  },
  {
   "cell_type": "code",
   "execution_count": 89,
   "id": "6f9c5692",
   "metadata": {},
   "outputs": [
    {
     "data": {
      "text/plain": [
       "146    3\n",
       "25     1\n",
       "90     2\n",
       "30     1\n",
       "47     1\n",
       "37     1\n",
       "96     2\n",
       "56     2\n",
       "34     1\n",
       "131    3\n",
       "7      1\n",
       "8      1\n",
       "134    3\n",
       "76     2\n",
       "130    3\n",
       "15     1\n",
       "4      1\n",
       "79     2\n",
       "91     2\n",
       "139    3\n",
       "107    3\n",
       "21     1\n",
       "46     1\n",
       "73     2\n",
       "140    3\n",
       "88     2\n",
       "57     2\n",
       "109    3\n",
       "45     1\n",
       "44     1\n",
       "Name: Species, dtype: int64"
      ]
     },
     "execution_count": 89,
     "metadata": {},
     "output_type": "execute_result"
    }
   ],
   "source": [
    "Y_test"
   ]
  },
  {
   "cell_type": "markdown",
   "id": "b93e98da",
   "metadata": {},
   "source": [
    "# 5. Build Random Forest Classifier"
   ]
  },
  {
   "cell_type": "markdown",
   "id": "a71fa115",
   "metadata": {},
   "source": [
    "Building RandomForestClassifier model and tarining it with the training data."
   ]
  },
  {
   "cell_type": "code",
   "execution_count": 90,
   "id": "d3abacd3",
   "metadata": {},
   "outputs": [],
   "source": [
    "clf = RandomForestClassifier(n_estimators=100)"
   ]
  },
  {
   "cell_type": "code",
   "execution_count": 91,
   "id": "38e635bf",
   "metadata": {},
   "outputs": [
    {
     "data": {
      "text/plain": [
       "RandomForestClassifier()"
      ]
     },
     "execution_count": 91,
     "metadata": {},
     "output_type": "execute_result"
    }
   ],
   "source": [
    "clf.fit(X_train, Y_train)"
   ]
  },
  {
   "cell_type": "markdown",
   "id": "56b54977",
   "metadata": {},
   "source": [
    "# 6.Prediction"
   ]
  },
  {
   "cell_type": "markdown",
   "id": "655d7dc8",
   "metadata": {},
   "source": [
    "Prediction of the test data with the Model."
   ]
  },
  {
   "cell_type": "code",
   "execution_count": 92,
   "id": "91f54f45",
   "metadata": {},
   "outputs": [],
   "source": [
    "y_label = clf.predict(X_test)"
   ]
  },
  {
   "cell_type": "code",
   "execution_count": 93,
   "id": "453bb0ae",
   "metadata": {},
   "outputs": [
    {
     "data": {
      "text/plain": [
       "array([3, 1, 2, 1, 1, 1, 2, 2, 1, 3, 1, 1, 3, 2, 3, 1, 1, 2, 2, 3, 3, 1,\n",
       "       1, 2, 3, 2, 2, 3, 1, 1], dtype=int64)"
      ]
     },
     "execution_count": 93,
     "metadata": {},
     "output_type": "execute_result"
    }
   ],
   "source": [
    "y_label"
   ]
  },
  {
   "cell_type": "markdown",
   "id": "e73f9747",
   "metadata": {},
   "source": [
    "Comparing the accuracy of the training model based on trained data."
   ]
  },
  {
   "cell_type": "code",
   "execution_count": 94,
   "id": "ea2494af",
   "metadata": {},
   "outputs": [
    {
     "data": {
      "text/plain": [
       "1.0"
      ]
     },
     "execution_count": 94,
     "metadata": {},
     "output_type": "execute_result"
    }
   ],
   "source": [
    "clf.score(X_train, Y_train)"
   ]
  },
  {
   "cell_type": "markdown",
   "id": "58563d3c",
   "metadata": {},
   "source": [
    "# 7.Check the Accuracy of the Model"
   ]
  },
  {
   "cell_type": "code",
   "execution_count": 95,
   "id": "5bc1205e",
   "metadata": {},
   "outputs": [
    {
     "data": {
      "text/plain": [
       "1.0"
      ]
     },
     "execution_count": 95,
     "metadata": {},
     "output_type": "execute_result"
    }
   ],
   "source": [
    "clf.score(X_test,Y_test)"
   ]
  },
  {
   "cell_type": "code",
   "execution_count": 96,
   "id": "ceb8b36f",
   "metadata": {},
   "outputs": [
    {
     "name": "stdout",
     "output_type": "stream",
     "text": [
      "              precision    recall  f1-score   support\n",
      "\n",
      "           1       1.00      1.00      1.00        13\n",
      "           2       1.00      1.00      1.00         9\n",
      "           3       1.00      1.00      1.00         8\n",
      "\n",
      "    accuracy                           1.00        30\n",
      "   macro avg       1.00      1.00      1.00        30\n",
      "weighted avg       1.00      1.00      1.00        30\n",
      "\n"
     ]
    }
   ],
   "source": [
    "print(classification_report(Y_test, y_label))"
   ]
  },
  {
   "cell_type": "code",
   "execution_count": 97,
   "id": "ff0e0d07",
   "metadata": {},
   "outputs": [
    {
     "data": {
      "text/plain": [
       "array([[13,  0,  0],\n",
       "       [ 0,  9,  0],\n",
       "       [ 0,  0,  8]], dtype=int64)"
      ]
     },
     "execution_count": 97,
     "metadata": {},
     "output_type": "execute_result"
    }
   ],
   "source": [
    "confusion_matrix(Y_test, y_label)"
   ]
  },
  {
   "cell_type": "code",
   "execution_count": 98,
   "id": "374812e6",
   "metadata": {},
   "outputs": [
    {
     "data": {
      "text/plain": [
       "1.0"
      ]
     },
     "execution_count": 98,
     "metadata": {},
     "output_type": "execute_result"
    }
   ],
   "source": [
    "accuracy_score(Y_test, y_label)"
   ]
  },
  {
   "cell_type": "markdown",
   "id": "7c7541b6",
   "metadata": {},
   "source": [
    "# 8.Check feature importance"
   ]
  },
  {
   "cell_type": "code",
   "execution_count": 99,
   "id": "57aaf71d",
   "metadata": {
    "scrolled": true
   },
   "outputs": [
    {
     "data": {
      "text/plain": [
       "[('SepalLengthCm', 0.07996700575860766),\n",
       " ('SepalWidthCm', 0.03237529325165018),\n",
       " ('PetalLengthCm', 0.41084299532140295),\n",
       " ('PetalWidthCm', 0.4768147056683391)]"
      ]
     },
     "execution_count": 99,
     "metadata": {},
     "output_type": "execute_result"
    }
   ],
   "source": [
    "list(zip(X_train, clf.feature_importances_))"
   ]
  },
  {
   "cell_type": "markdown",
   "id": "c8be3c1d",
   "metadata": {},
   "source": [
    "# 9.Estimator Selection"
   ]
  },
  {
   "cell_type": "markdown",
   "id": "2b28e607",
   "metadata": {},
   "source": [
    "Efficient estimator selection using the n_estimators. It is an iterative step to find the accuracy of the model at various levels of estimator."
   ]
  },
  {
   "cell_type": "code",
   "execution_count": 100,
   "id": "bb4afd59",
   "metadata": {},
   "outputs": [
    {
     "name": "stdout",
     "output_type": "stream",
     "text": [
      "Trying model with 10 estimators...\n",
      "The model accuracy on test set: 96.67%\n",
      "\n",
      "Trying model with 20 estimators...\n",
      "The model accuracy on test set: 96.67%\n",
      "\n",
      "Trying model with 30 estimators...\n",
      "The model accuracy on test set: 100.00%\n",
      "\n",
      "Trying model with 40 estimators...\n",
      "The model accuracy on test set: 100.00%\n",
      "\n",
      "Trying model with 50 estimators...\n",
      "The model accuracy on test set: 100.00%\n",
      "\n",
      "Trying model with 60 estimators...\n",
      "The model accuracy on test set: 100.00%\n",
      "\n",
      "Trying model with 70 estimators...\n",
      "The model accuracy on test set: 100.00%\n",
      "\n",
      "Trying model with 80 estimators...\n",
      "The model accuracy on test set: 96.67%\n",
      "\n",
      "Trying model with 90 estimators...\n",
      "The model accuracy on test set: 100.00%\n",
      "\n",
      "Trying model with 100 estimators...\n",
      "The model accuracy on test set: 96.67%\n",
      "\n"
     ]
    }
   ],
   "source": [
    "for i in range(10,110,10):\n",
    "    print(f\"Trying model with {i} estimators...\")\n",
    "    clf = RandomForestClassifier(n_estimators=i)\n",
    "    clf.fit(X_train, Y_train)\n",
    "    print(f\"The model accuracy on test set: {clf.score(X_test, Y_test)*100:.2f}%\")\n",
    "    print(\"\")"
   ]
  },
  {
   "cell_type": "code",
   "execution_count": 101,
   "id": "ae6ab373",
   "metadata": {},
   "outputs": [],
   "source": [
    "clf = RandomForestClassifier(n_estimators=50).fit(X_train, Y_train)"
   ]
  },
  {
   "cell_type": "markdown",
   "id": "c2348f16",
   "metadata": {},
   "source": [
    "# 10.Save the model"
   ]
  },
  {
   "cell_type": "code",
   "execution_count": 102,
   "id": "44990f85",
   "metadata": {},
   "outputs": [],
   "source": [
    "import pickle\n",
    "pickle.dump(clf, open(\"iris_prediction.pkl\", \"wb\"))"
   ]
  },
  {
   "cell_type": "markdown",
   "id": "a7a4acd1",
   "metadata": {},
   "source": [
    "# 11. Load the saved model"
   ]
  },
  {
   "cell_type": "code",
   "execution_count": 103,
   "id": "2f233709",
   "metadata": {},
   "outputs": [
    {
     "data": {
      "text/plain": [
       "1.0"
      ]
     },
     "execution_count": 103,
     "metadata": {},
     "output_type": "execute_result"
    }
   ],
   "source": [
    "loaded_model = pickle.load(open(\"iris_prediction.pkl\", \"rb\"))\n",
    "loaded_model.score(X_test, Y_test)"
   ]
  },
  {
   "cell_type": "markdown",
   "id": "6ba53c03",
   "metadata": {},
   "source": [
    "# 12. Testing with random input attributes"
   ]
  },
  {
   "cell_type": "code",
   "execution_count": 106,
   "id": "f5107055",
   "metadata": {},
   "outputs": [
    {
     "name": "stderr",
     "output_type": "stream",
     "text": [
      "E:\\Anaconda_Environment\\lib\\site-packages\\sklearn\\base.py:450: UserWarning: X does not have valid feature names, but RandomForestClassifier was fitted with feature names\n",
      "  warnings.warn(\n"
     ]
    },
    {
     "data": {
      "text/plain": [
       "array([3], dtype=int64)"
      ]
     },
     "execution_count": 106,
     "metadata": {},
     "output_type": "execute_result"
    }
   ],
   "source": [
    "loaded_model.predict([[4.7,3.2,8.2,2.9]])"
   ]
  }
 ],
 "metadata": {
  "kernelspec": {
   "display_name": "Python 3 (ipykernel)",
   "language": "python",
   "name": "python3"
  },
  "language_info": {
   "codemirror_mode": {
    "name": "ipython",
    "version": 3
   },
   "file_extension": ".py",
   "mimetype": "text/x-python",
   "name": "python",
   "nbconvert_exporter": "python",
   "pygments_lexer": "ipython3",
   "version": "3.9.13"
  }
 },
 "nbformat": 4,
 "nbformat_minor": 5
}
